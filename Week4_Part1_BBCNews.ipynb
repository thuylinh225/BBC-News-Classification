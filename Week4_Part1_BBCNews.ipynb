{
 "cells": [
  {
   "cell_type": "code",
   "execution_count": 1,
   "id": "1af2828a",
   "metadata": {},
   "outputs": [
    {
     "name": "stderr",
     "output_type": "stream",
     "text": [
      "[nltk_data] Downloading package stopwords to\n",
      "[nltk_data]     /Users/linhtran/nltk_data...\n",
      "[nltk_data]   Package stopwords is already up-to-date!\n",
      "[nltk_data] Downloading package wordnet to\n",
      "[nltk_data]     /Users/linhtran/nltk_data...\n",
      "[nltk_data]   Package wordnet is already up-to-date!\n"
     ]
    }
   ],
   "source": [
    "#import important libraries\n",
    "import pandas as pd\n",
    "import matplotlib.pyplot as plt\n",
    "import numpy as np\n",
    "import seaborn as sns\n",
    "\n",
    "# import libraries for EDA and preprocessing\n",
    "import nltk\n",
    "nltk.download('stopwords')\n",
    "from nltk.corpus import stopwords\n",
    "nltk.download('wordnet')\n",
    "from nltk.stem import WordNetLemmatizer\n",
    "\n",
    "# import libraries for modeling\n",
    "from sklearn.model_selection import train_test_split\n",
    "from sklearn.feature_extraction.text import TfidfVectorizer, CountVectorizer\n",
    "from sklearn.decomposition import NMF\n",
    "from sklearn.metrics import accuracy_score\n",
    "import sklearn.metrics as metrics\n",
    "import itertools\n",
    "from sklearn.neighbors import KNeighborsClassifier\n",
    "from sklearn.ensemble import RandomForestClassifier\n",
    "from sklearn.tree import DecisionTreeClassifier\n",
    "from sklearn.svm import SVC\n",
    "from sklearn.model_selection import GridSearchCV\n",
    "\n",
    "# import libraries for evaluating\n",
    "from sklearn.metrics import confusion_matrix\n",
    "from sklearn.model_selection import cross_val_score\n",
    "import time"
   ]
  },
  {
   "cell_type": "markdown",
   "id": "5ffee3ff",
   "metadata": {},
   "source": [
    "We have BBC News Train and BBC News Test data downloaded from Kaggle which consists of 5 categories in total. And the goal is to assign one category to a news article in test data. The five categories we want to identify are Sports, Business, Politics, Tech, and Entertainment.\n",
    "\n",
    "To do this, we will train two models:   \n",
    "(1) an unsupervised model using matrix factorization  \n",
    "(2) multiple supervised model such as SVM, KNN, Random Forest.    \n",
    "These models are built to have their testing accuracy and then I will compare these models for their performance."
   ]
  },
  {
   "cell_type": "markdown",
   "id": "871dc953",
   "metadata": {},
   "source": [
    "## Step 1: Inspect, Visualize and Clean the Data"
   ]
  },
  {
   "cell_type": "code",
   "execution_count": 2,
   "id": "17733b52",
   "metadata": {},
   "outputs": [],
   "source": [
    "# read data\n",
    "train_df = pd.read_csv('BBC News Train.csv')\n"
   ]
  },
  {
   "cell_type": "code",
   "execution_count": 3,
   "id": "90c54fd3",
   "metadata": {},
   "outputs": [],
   "source": [
    "# read data\n",
    "test_df = pd.read_csv('BBC News Test.csv')\n"
   ]
  },
  {
   "cell_type": "code",
   "execution_count": 4,
   "id": "e783266b",
   "metadata": {},
   "outputs": [
    {
     "data": {
      "text/html": [
       "<div>\n",
       "<style scoped>\n",
       "    .dataframe tbody tr th:only-of-type {\n",
       "        vertical-align: middle;\n",
       "    }\n",
       "\n",
       "    .dataframe tbody tr th {\n",
       "        vertical-align: top;\n",
       "    }\n",
       "\n",
       "    .dataframe thead th {\n",
       "        text-align: right;\n",
       "    }\n",
       "</style>\n",
       "<table border=\"1\" class=\"dataframe\">\n",
       "  <thead>\n",
       "    <tr style=\"text-align: right;\">\n",
       "      <th></th>\n",
       "      <th>ArticleId</th>\n",
       "      <th>Text</th>\n",
       "      <th>Category</th>\n",
       "    </tr>\n",
       "  </thead>\n",
       "  <tbody>\n",
       "    <tr>\n",
       "      <th>0</th>\n",
       "      <td>1833</td>\n",
       "      <td>worldcom ex-boss launches defence lawyers defe...</td>\n",
       "      <td>business</td>\n",
       "    </tr>\n",
       "    <tr>\n",
       "      <th>1</th>\n",
       "      <td>154</td>\n",
       "      <td>german business confidence slides german busin...</td>\n",
       "      <td>business</td>\n",
       "    </tr>\n",
       "    <tr>\n",
       "      <th>2</th>\n",
       "      <td>1101</td>\n",
       "      <td>bbc poll indicates economic gloom citizens in ...</td>\n",
       "      <td>business</td>\n",
       "    </tr>\n",
       "    <tr>\n",
       "      <th>3</th>\n",
       "      <td>1976</td>\n",
       "      <td>lifestyle  governs mobile choice  faster  bett...</td>\n",
       "      <td>tech</td>\n",
       "    </tr>\n",
       "    <tr>\n",
       "      <th>4</th>\n",
       "      <td>917</td>\n",
       "      <td>enron bosses in $168m payout eighteen former e...</td>\n",
       "      <td>business</td>\n",
       "    </tr>\n",
       "  </tbody>\n",
       "</table>\n",
       "</div>"
      ],
      "text/plain": [
       "   ArticleId                                               Text  Category\n",
       "0       1833  worldcom ex-boss launches defence lawyers defe...  business\n",
       "1        154  german business confidence slides german busin...  business\n",
       "2       1101  bbc poll indicates economic gloom citizens in ...  business\n",
       "3       1976  lifestyle  governs mobile choice  faster  bett...      tech\n",
       "4        917  enron bosses in $168m payout eighteen former e...  business"
      ]
     },
     "execution_count": 4,
     "metadata": {},
     "output_type": "execute_result"
    }
   ],
   "source": [
    "# take a look at some rows of train data\n",
    "train_df.head()\n"
   ]
  },
  {
   "cell_type": "code",
   "execution_count": 5,
   "id": "a51c59ad",
   "metadata": {},
   "outputs": [
    {
     "data": {
      "text/plain": [
       "(1490, 3)"
      ]
     },
     "execution_count": 5,
     "metadata": {},
     "output_type": "execute_result"
    }
   ],
   "source": [
    "# the shape of train data\n",
    "train_df.shape\n"
   ]
  },
  {
   "cell_type": "code",
   "execution_count": 6,
   "id": "1078f863",
   "metadata": {},
   "outputs": [
    {
     "data": {
      "text/html": [
       "<div>\n",
       "<style scoped>\n",
       "    .dataframe tbody tr th:only-of-type {\n",
       "        vertical-align: middle;\n",
       "    }\n",
       "\n",
       "    .dataframe tbody tr th {\n",
       "        vertical-align: top;\n",
       "    }\n",
       "\n",
       "    .dataframe thead th {\n",
       "        text-align: right;\n",
       "    }\n",
       "</style>\n",
       "<table border=\"1\" class=\"dataframe\">\n",
       "  <thead>\n",
       "    <tr style=\"text-align: right;\">\n",
       "      <th></th>\n",
       "      <th>ArticleId</th>\n",
       "    </tr>\n",
       "  </thead>\n",
       "  <tbody>\n",
       "    <tr>\n",
       "      <th>count</th>\n",
       "      <td>1490.000000</td>\n",
       "    </tr>\n",
       "    <tr>\n",
       "      <th>mean</th>\n",
       "      <td>1119.696644</td>\n",
       "    </tr>\n",
       "    <tr>\n",
       "      <th>std</th>\n",
       "      <td>641.826283</td>\n",
       "    </tr>\n",
       "    <tr>\n",
       "      <th>min</th>\n",
       "      <td>2.000000</td>\n",
       "    </tr>\n",
       "    <tr>\n",
       "      <th>25%</th>\n",
       "      <td>565.250000</td>\n",
       "    </tr>\n",
       "    <tr>\n",
       "      <th>50%</th>\n",
       "      <td>1112.500000</td>\n",
       "    </tr>\n",
       "    <tr>\n",
       "      <th>75%</th>\n",
       "      <td>1680.750000</td>\n",
       "    </tr>\n",
       "    <tr>\n",
       "      <th>max</th>\n",
       "      <td>2224.000000</td>\n",
       "    </tr>\n",
       "  </tbody>\n",
       "</table>\n",
       "</div>"
      ],
      "text/plain": [
       "         ArticleId\n",
       "count  1490.000000\n",
       "mean   1119.696644\n",
       "std     641.826283\n",
       "min       2.000000\n",
       "25%     565.250000\n",
       "50%    1112.500000\n",
       "75%    1680.750000\n",
       "max    2224.000000"
      ]
     },
     "execution_count": 6,
     "metadata": {},
     "output_type": "execute_result"
    }
   ],
   "source": [
    "# get a quick description of the data\n",
    "train_df.describe()\n"
   ]
  },
  {
   "cell_type": "code",
   "execution_count": 7,
   "id": "e8b299d2",
   "metadata": {},
   "outputs": [
    {
     "name": "stdout",
     "output_type": "stream",
     "text": [
      "<class 'pandas.core.frame.DataFrame'>\n",
      "RangeIndex: 1490 entries, 0 to 1489\n",
      "Data columns (total 3 columns):\n",
      " #   Column     Non-Null Count  Dtype \n",
      "---  ------     --------------  ----- \n",
      " 0   ArticleId  1490 non-null   int64 \n",
      " 1   Text       1490 non-null   object\n",
      " 2   Category   1490 non-null   object\n",
      "dtypes: int64(1), object(2)\n",
      "memory usage: 35.0+ KB\n"
     ]
    }
   ],
   "source": [
    "# the structure of data also tells us the number of rows (observations) and columns (variables)\n",
    "train_df.info()\n"
   ]
  },
  {
   "cell_type": "code",
   "execution_count": 8,
   "id": "0ce41618",
   "metadata": {},
   "outputs": [
    {
     "data": {
      "text/plain": [
       "array(['business', 'tech', 'politics', 'sport', 'entertainment'],\n",
       "      dtype=object)"
      ]
     },
     "execution_count": 8,
     "metadata": {},
     "output_type": "execute_result"
    }
   ],
   "source": [
    "# get the category of train data\n",
    "train_df['Category'].unique()"
   ]
  },
  {
   "cell_type": "code",
   "execution_count": 9,
   "id": "7aa547e5",
   "metadata": {},
   "outputs": [
    {
     "data": {
      "text/plain": [
       "ArticleId    0\n",
       "Text         0\n",
       "Category     0\n",
       "dtype: int64"
      ]
     },
     "execution_count": 9,
     "metadata": {},
     "output_type": "execute_result"
    }
   ],
   "source": [
    "# check null values in train data\n",
    "train_df.isnull().sum()\n"
   ]
  },
  {
   "cell_type": "code",
   "execution_count": 10,
   "id": "f64d9ab8",
   "metadata": {},
   "outputs": [
    {
     "data": {
      "text/plain": [
       "0"
      ]
     },
     "execution_count": 10,
     "metadata": {},
     "output_type": "execute_result"
    }
   ],
   "source": [
    "# check for duplicate articles\n",
    "train_df.duplicated(keep=False).sum()\n"
   ]
  },
  {
   "cell_type": "markdown",
   "id": "192398e6",
   "metadata": {},
   "source": [
    "From the output above, we can summarize that:  \n",
    "+ There are 1490 rows and 3 columns in train data.\n",
    "+ There are five categories in train data, include 'business', 'tech', 'politics', 'sport' and 'entertainment'.\n",
    "+ There is no missing values.\n",
    "+ There is one integer column and it is Article ID.\n",
    "+ There are two object columns, they are Text and Category.\n",
    "+ There is no duplicate articles.  \n",
    "Next, I will calculate and visualize the count and the proportion of each label in train data."
   ]
  },
  {
   "cell_type": "code",
   "execution_count": 11,
   "id": "daf4ae7d",
   "metadata": {},
   "outputs": [
    {
     "data": {
      "text/plain": [
       "sport            346\n",
       "business         336\n",
       "politics         274\n",
       "entertainment    273\n",
       "tech             261\n",
       "Name: Category, dtype: int64"
      ]
     },
     "execution_count": 11,
     "metadata": {},
     "output_type": "execute_result"
    }
   ],
   "source": [
    "# calculate the count of each label\n",
    "train_df['Category'].value_counts()\n"
   ]
  },
  {
   "cell_type": "code",
   "execution_count": 12,
   "id": "6a6efcd3",
   "metadata": {},
   "outputs": [
    {
     "data": {
      "text/plain": [
       "sport            23.221477\n",
       "business         22.550336\n",
       "politics         18.389262\n",
       "entertainment    18.322148\n",
       "tech             17.516779\n",
       "Name: Category, dtype: float64"
      ]
     },
     "execution_count": 12,
     "metadata": {},
     "output_type": "execute_result"
    }
   ],
   "source": [
    "# calculate the proportion of each label\n",
    "train_df['Category'].value_counts()/len(train_df)*100\n"
   ]
  },
  {
   "cell_type": "code",
   "execution_count": 13,
   "id": "a3233b62",
   "metadata": {},
   "outputs": [
    {
     "data": {
      "image/png": "[encoded data removed]",
      "text/plain": [
       "<Figure size 576x432 with 1 Axes>"
      ]
     },
     "metadata": {
      "needs_background": "light"
     },
     "output_type": "display_data"
    },
    {
     "data": {
      "image/png": "[encoded data removed]",
      "text/plain": [
       "<Figure size 432x288 with 1 Axes>"
      ]
     },
     "metadata": {},
     "output_type": "display_data"
    }
   ],
   "source": [
    "# plot the count of each category\n",
    "fig, ax = plt.subplots(figsize=(8,6))\n",
    "train_df['Category'].value_counts().plot(kind='bar', ax=ax)\n",
    "plt.xlabel(\"Category\")\n",
    "plt.xticks(rotation=360)\n",
    "plt.ylabel(\"Count\")\n",
    "plt.title(\"Figure 1. The Count of Category\")\n",
    "\n",
    "# plot the proportion of each category\n",
    "labels = train_df['Category'].unique().tolist()\n",
    "counts = train_df['Category'].value_counts()\n",
    "sizes = [counts[v] for v in labels]\n",
    "fig1, ax1 = plt.subplots()\n",
    "ax1.pie(sizes, labels=labels, autopct='%0.2f%%')\n",
    "ax1.axis('equal')\n",
    "plt.title(\"Figure 2. The Proportion of Category\")\n",
    "\n",
    "plt.tight_layout()\n",
    "plt.show()\n"
   ]
  },
  {
   "cell_type": "markdown",
   "id": "689ff3de",
   "metadata": {},
   "source": [
    "Looking at Figure 2, we can see the proportions of each kind of article. In overall, the number of article for each category is not different too much. I think this is good since if one or two categories was severely underrepresentated or, in contrast, overrepresentative in the train data, then it may cause our model to be biased and/or perform poorly on some or all of the test data."
   ]
  },
  {
   "cell_type": "markdown",
   "id": "7b83a327",
   "metadata": {},
   "source": [
    "To preprocess our text simply means to bring our text into a form that is predictable and analyzable for our task. So, what I am going to do is:      \n",
    "    (1) lowercasing all our text data    \n",
    "    (2) remove punctuation    \n",
    "    (3) remove stop words: stop words are a set of commonly used words in a language. Examples of stop words in English are “a”, “the”, “is”, “are” and etc. The intuition behind using stop words is that, by removing low information words from text, we can focus on the important words instead.  \n",
    "    (4) lemmatization: lemmatization usually refers to doing things properly with the use of a vocabulary and morphological analysis of words, normally aiming to remove inflectional endings only and to return the base or dictionary form of a word, which is known as the lemma. For example, runs, running, ran are all forms of the word run, therefore run is the lemma of all these words.\n",
    "    \n",
    "Because I will redo these cleaning steps for test data as well, thus for convenience, I will create a clean_text function for train data and reuse it for cleaning test data later."
   ]
  },
  {
   "cell_type": "code",
   "execution_count": 14,
   "id": "bb53a511",
   "metadata": {},
   "outputs": [],
   "source": [
    "def clean_text(data, text):\n",
    "    # lowercasing all text data\n",
    "    data[text] = data[text].str.lower()\n",
    "    # remove punctuation\n",
    "    data[text] = data[text].str.replace('[^\\w\\s]', '', regex=True)\n",
    "    # remove stop words\n",
    "    stop_words = stopwords.words('english')\n",
    "    data[text] = data[text].apply(lambda x: ' '.join([word for word in x.split() if word not in (stop_words)]))\n",
    "    # lemmatization\n",
    "    lemmatizer = WordNetLemmatizer()\n",
    "    data[text] = data[text].apply(lambda x: ' '.join([lemmatizer.lemmatize(word) for word in x.split()]))\n",
    "    return\n"
   ]
  },
  {
   "cell_type": "code",
   "execution_count": 15,
   "id": "c5b12d17",
   "metadata": {},
   "outputs": [
    {
     "data": {
      "text/plain": [
       "'worldcom exboss launch defence lawyer defending former worldcom chief bernie ebbers battery fraud charge called company whistleblower first witness cynthia cooper worldcom exhead internal accounting alerted director irregular accounting practice u telecom giant 2002 warning led collapse firm following discovery 11bn 57bn accounting fraud mr ebbers pleaded guilty charge fraud conspiracy prosecution lawyer argued mr ebbers orchestrated series accounting trick worldcom ordering employee hide expense inflate revenue meet wall street earnings estimate m cooper run consulting business told jury new york wednesday external auditor arthur andersen approved worldcom accounting early 2001 2002 said andersen given green light procedure practice used worldcom mr ebber lawyer said unaware fraud arguing auditor alert problem m cooper also said shareholder meeting mr ebbers often passed technical question company finance chief giving brief answer prosecution star witness former worldcom financial chief scott sullivan said mr ebbers ordered accounting adjustment firm telling hit book however m cooper said mr sullivan mentioned anything uncomfortable worldcom accounting 2001 audit committee meeting mr ebbers could face jail sentence 85 year convicted charge facing worldcom emerged bankruptcy protection 2004 known mci last week mci agreed buyout verizon communication deal valued 675bn'"
      ]
     },
     "execution_count": 15,
     "metadata": {},
     "output_type": "execute_result"
    }
   ],
   "source": [
    "# clean train data\n",
    "clean_text(train_df, \"Text\")\n",
    "\n",
    "# view text in the first row after cleaning all text data\n",
    "train_df[\"Text\"][0]\n"
   ]
  },
  {
   "cell_type": "code",
   "execution_count": 16,
   "id": "c93187e8",
   "metadata": {},
   "outputs": [],
   "source": [
    "# calculate the count of word per article\n",
    "train_df[\"Word_Count\"] = train_df['Text'].apply(lambda x: len(x.split()))\n"
   ]
  },
  {
   "cell_type": "code",
   "execution_count": 17,
   "id": "faf2c25b",
   "metadata": {},
   "outputs": [
    {
     "data": {
      "text/html": [
       "<div>\n",
       "<style scoped>\n",
       "    .dataframe tbody tr th:only-of-type {\n",
       "        vertical-align: middle;\n",
       "    }\n",
       "\n",
       "    .dataframe tbody tr th {\n",
       "        vertical-align: top;\n",
       "    }\n",
       "\n",
       "    .dataframe thead th {\n",
       "        text-align: right;\n",
       "    }\n",
       "</style>\n",
       "<table border=\"1\" class=\"dataframe\">\n",
       "  <thead>\n",
       "    <tr style=\"text-align: right;\">\n",
       "      <th></th>\n",
       "      <th>ArticleId</th>\n",
       "      <th>Text</th>\n",
       "      <th>Category</th>\n",
       "      <th>Word_Count</th>\n",
       "    </tr>\n",
       "  </thead>\n",
       "  <tbody>\n",
       "    <tr>\n",
       "      <th>0</th>\n",
       "      <td>1833</td>\n",
       "      <td>worldcom exboss launch defence lawyer defendin...</td>\n",
       "      <td>business</td>\n",
       "      <td>191</td>\n",
       "    </tr>\n",
       "    <tr>\n",
       "      <th>1</th>\n",
       "      <td>154</td>\n",
       "      <td>german business confidence slide german busine...</td>\n",
       "      <td>business</td>\n",
       "      <td>203</td>\n",
       "    </tr>\n",
       "    <tr>\n",
       "      <th>2</th>\n",
       "      <td>1101</td>\n",
       "      <td>bbc poll indicates economic gloom citizen majo...</td>\n",
       "      <td>business</td>\n",
       "      <td>292</td>\n",
       "    </tr>\n",
       "    <tr>\n",
       "      <th>3</th>\n",
       "      <td>1976</td>\n",
       "      <td>lifestyle governs mobile choice faster better ...</td>\n",
       "      <td>tech</td>\n",
       "      <td>353</td>\n",
       "    </tr>\n",
       "    <tr>\n",
       "      <th>4</th>\n",
       "      <td>917</td>\n",
       "      <td>enron boss 168m payout eighteen former enron d...</td>\n",
       "      <td>business</td>\n",
       "      <td>211</td>\n",
       "    </tr>\n",
       "  </tbody>\n",
       "</table>\n",
       "</div>"
      ],
      "text/plain": [
       "   ArticleId                                               Text  Category  \\\n",
       "0       1833  worldcom exboss launch defence lawyer defendin...  business   \n",
       "1        154  german business confidence slide german busine...  business   \n",
       "2       1101  bbc poll indicates economic gloom citizen majo...  business   \n",
       "3       1976  lifestyle governs mobile choice faster better ...      tech   \n",
       "4        917  enron boss 168m payout eighteen former enron d...  business   \n",
       "\n",
       "   Word_Count  \n",
       "0         191  \n",
       "1         203  \n",
       "2         292  \n",
       "3         353  \n",
       "4         211  "
      ]
     },
     "execution_count": 17,
     "metadata": {},
     "output_type": "execute_result"
    }
   ],
   "source": [
    "# view some first rows of train data\n",
    "train_df.head()\n"
   ]
  },
  {
   "cell_type": "code",
   "execution_count": 18,
   "id": "e363cca7",
   "metadata": {},
   "outputs": [
    {
     "data": {
      "text/plain": [
       "219.6469798657718"
      ]
     },
     "execution_count": 18,
     "metadata": {},
     "output_type": "execute_result"
    }
   ],
   "source": [
    "# The average count of word per article\n",
    "np.mean(train_df.Word_Count)\n"
   ]
  },
  {
   "cell_type": "code",
   "execution_count": 19,
   "id": "12a09030",
   "metadata": {},
   "outputs": [
    {
     "data": {
      "image/png": "[encoded data removed]",
      "text/plain": [
       "<Figure size 720x432 with 1 Axes>"
      ]
     },
     "metadata": {
      "needs_background": "light"
     },
     "output_type": "display_data"
    }
   ],
   "source": [
    "# plot the count of word per article\n",
    "fig, ax = plt.subplots(figsize=(10,6))\n",
    "train_df['Word_Count'].plot(kind='hist')\n",
    "plt.xlabel(\"Word Count\")\n",
    "plt.xticks(rotation=360)\n",
    "plt.ylabel(\"Count\")\n",
    "plt.title(\"Figure 3. The count of words per Article\")\n",
    "plt.show()\n"
   ]
  },
  {
   "cell_type": "markdown",
   "id": "d06a8d92",
   "metadata": {},
   "source": [
    "We see that the average count of words per article is about 220 and looking at Figure 3, there are some outliers that have over 750 word count per article. Thus, I would like to remove articles that have more than 750 words. And then I will plot the count of words per category."
   ]
  },
  {
   "cell_type": "code",
   "execution_count": 20,
   "id": "8409a4ae",
   "metadata": {},
   "outputs": [
    {
     "data": {
      "text/plain": [
       "1484"
      ]
     },
     "execution_count": 20,
     "metadata": {},
     "output_type": "execute_result"
    }
   ],
   "source": [
    "# remove outliers have more than 750 words\n",
    "train_df = train_df[train_df.Word_Count <= 750]\n",
    "len(train_df)\n"
   ]
  },
  {
   "cell_type": "code",
   "execution_count": 21,
   "id": "db3595e4",
   "metadata": {},
   "outputs": [
    {
     "data": {
      "image/png": "[encoded data removed]",
      "text/plain": [
       "<Figure size 576x576 with 1 Axes>"
      ]
     },
     "metadata": {
      "needs_background": "light"
     },
     "output_type": "display_data"
    }
   ],
   "source": [
    "# visualize the count of words per category\n",
    "fig, ax = plt.subplots(figsize=(8, 8))\n",
    "sns.boxplot(data = train_df, x = 'Category', y = 'Word_Count', palette = 'colorblind'\n",
    "           ).set(title = 'Figure 4. The count of words per Category')\n",
    "plt.show()\n"
   ]
  },
  {
   "cell_type": "markdown",
   "id": "b7011c29",
   "metadata": {},
   "source": [
    "Looking at Figure 4, we observe that the mean of word count of each category is not different much, tech and politics have more words and variance than business, sport and entertainment."
   ]
  },
  {
   "cell_type": "markdown",
   "id": "2d3c3dfc",
   "metadata": {},
   "source": [
    "#### Split data"
   ]
  },
  {
   "cell_type": "markdown",
   "id": "1cee5d67",
   "metadata": {},
   "source": [
    "After cleaning, to prepare for building and training models, we split 20% of the data into a separate cross validation dataset, keeping the same proportion of classes in each subset."
   ]
  },
  {
   "cell_type": "code",
   "execution_count": 22,
   "id": "201c3cec",
   "metadata": {},
   "outputs": [
    {
     "name": "stdout",
     "output_type": "stream",
     "text": [
      "Training set:\n"
     ]
    },
    {
     "data": {
      "text/html": [
       "<div>\n",
       "<style scoped>\n",
       "    .dataframe tbody tr th:only-of-type {\n",
       "        vertical-align: middle;\n",
       "    }\n",
       "\n",
       "    .dataframe tbody tr th {\n",
       "        vertical-align: top;\n",
       "    }\n",
       "\n",
       "    .dataframe thead th {\n",
       "        text-align: right;\n",
       "    }\n",
       "</style>\n",
       "<table border=\"1\" class=\"dataframe\">\n",
       "  <thead>\n",
       "    <tr style=\"text-align: right;\">\n",
       "      <th></th>\n",
       "      <th>ArticleId</th>\n",
       "      <th>Text</th>\n",
       "      <th>Category</th>\n",
       "    </tr>\n",
       "  </thead>\n",
       "  <tbody>\n",
       "    <tr>\n",
       "      <th>384</th>\n",
       "      <td>674</td>\n",
       "      <td>msps hear renewed climate warning climate chan...</td>\n",
       "      <td>politics</td>\n",
       "    </tr>\n",
       "    <tr>\n",
       "      <th>536</th>\n",
       "      <td>286</td>\n",
       "      <td>nissan name successor ghosn nissan named lifet...</td>\n",
       "      <td>business</td>\n",
       "    </tr>\n",
       "    <tr>\n",
       "      <th>678</th>\n",
       "      <td>581</td>\n",
       "      <td>napster offer rented music go music downloadin...</td>\n",
       "      <td>tech</td>\n",
       "    </tr>\n",
       "    <tr>\n",
       "      <th>486</th>\n",
       "      <td>2021</td>\n",
       "      <td>ad sale boost time warner profit quarterly pro...</td>\n",
       "      <td>business</td>\n",
       "    </tr>\n",
       "    <tr>\n",
       "      <th>408</th>\n",
       "      <td>1483</td>\n",
       "      <td>youssou n dour win music prize senegalese musi...</td>\n",
       "      <td>entertainment</td>\n",
       "    </tr>\n",
       "  </tbody>\n",
       "</table>\n",
       "</div>"
      ],
      "text/plain": [
       "     ArticleId                                               Text  \\\n",
       "384        674  msps hear renewed climate warning climate chan...   \n",
       "536        286  nissan name successor ghosn nissan named lifet...   \n",
       "678        581  napster offer rented music go music downloadin...   \n",
       "486       2021  ad sale boost time warner profit quarterly pro...   \n",
       "408       1483  youssou n dour win music prize senegalese musi...   \n",
       "\n",
       "          Category  \n",
       "384       politics  \n",
       "536       business  \n",
       "678           tech  \n",
       "486       business  \n",
       "408  entertainment  "
      ]
     },
     "execution_count": 22,
     "metadata": {},
     "output_type": "execute_result"
    }
   ],
   "source": [
    "# split the data into train and crossval\n",
    "train_df = train_df.drop(columns='Word_Count')\n",
    "train, crossval = train_test_split(train_df, test_size=0.2, random_state = 42)\n",
    "print('Training set:')\n",
    "train. head()\n"
   ]
  },
  {
   "cell_type": "code",
   "execution_count": 23,
   "id": "7d9859d0",
   "metadata": {},
   "outputs": [
    {
     "data": {
      "text/plain": [
       "(1187, 3)"
      ]
     },
     "execution_count": 23,
     "metadata": {},
     "output_type": "execute_result"
    }
   ],
   "source": [
    "# get shape of train dataset after splitting\n",
    "train.shape"
   ]
  },
  {
   "cell_type": "code",
   "execution_count": 24,
   "id": "3c7b3ae1",
   "metadata": {},
   "outputs": [
    {
     "name": "stdout",
     "output_type": "stream",
     "text": [
      "Cross validation set:\n"
     ]
    },
    {
     "data": {
      "text/html": [
       "<div>\n",
       "<style scoped>\n",
       "    .dataframe tbody tr th:only-of-type {\n",
       "        vertical-align: middle;\n",
       "    }\n",
       "\n",
       "    .dataframe tbody tr th {\n",
       "        vertical-align: top;\n",
       "    }\n",
       "\n",
       "    .dataframe thead th {\n",
       "        text-align: right;\n",
       "    }\n",
       "</style>\n",
       "<table border=\"1\" class=\"dataframe\">\n",
       "  <thead>\n",
       "    <tr style=\"text-align: right;\">\n",
       "      <th></th>\n",
       "      <th>ArticleId</th>\n",
       "      <th>Text</th>\n",
       "      <th>Category</th>\n",
       "    </tr>\n",
       "  </thead>\n",
       "  <tbody>\n",
       "    <tr>\n",
       "      <th>124</th>\n",
       "      <td>1091</td>\n",
       "      <td>smart search let art fan browse know art know ...</td>\n",
       "      <td>tech</td>\n",
       "    </tr>\n",
       "    <tr>\n",
       "      <th>435</th>\n",
       "      <td>2175</td>\n",
       "      <td>lifestyle governs mobile choice faster better ...</td>\n",
       "      <td>tech</td>\n",
       "    </tr>\n",
       "    <tr>\n",
       "      <th>1037</th>\n",
       "      <td>856</td>\n",
       "      <td>japan bank share link talk share sumitomo mits...</td>\n",
       "      <td>business</td>\n",
       "    </tr>\n",
       "    <tr>\n",
       "      <th>533</th>\n",
       "      <td>1468</td>\n",
       "      <td>commodore find new lease life oncefamous commo...</td>\n",
       "      <td>tech</td>\n",
       "    </tr>\n",
       "    <tr>\n",
       "      <th>1423</th>\n",
       "      <td>7</td>\n",
       "      <td>blair prepares name poll date tony blair likel...</td>\n",
       "      <td>politics</td>\n",
       "    </tr>\n",
       "  </tbody>\n",
       "</table>\n",
       "</div>"
      ],
      "text/plain": [
       "      ArticleId                                               Text  Category\n",
       "124        1091  smart search let art fan browse know art know ...      tech\n",
       "435        2175  lifestyle governs mobile choice faster better ...      tech\n",
       "1037        856  japan bank share link talk share sumitomo mits...  business\n",
       "533        1468  commodore find new lease life oncefamous commo...      tech\n",
       "1423          7  blair prepares name poll date tony blair likel...  politics"
      ]
     },
     "execution_count": 24,
     "metadata": {},
     "output_type": "execute_result"
    }
   ],
   "source": [
    "print('Cross validation set:')\n",
    "crossval.head()\n"
   ]
  },
  {
   "cell_type": "code",
   "execution_count": 25,
   "id": "2314d270",
   "metadata": {},
   "outputs": [
    {
     "data": {
      "text/plain": [
       "(297, 3)"
      ]
     },
     "execution_count": 25,
     "metadata": {},
     "output_type": "execute_result"
    }
   ],
   "source": [
    "# get shape of cross validation dataset after splitting\n",
    "crossval.shape\n"
   ]
  },
  {
   "cell_type": "markdown",
   "id": "a46cab17",
   "metadata": {},
   "source": [
    "## Step 2: Building and training models"
   ]
  },
  {
   "cell_type": "markdown",
   "id": "6925eb0d",
   "metadata": {},
   "source": [
    "Machines, unlike humans, cannot understand the raw text. Machines can only see numbers. Particularly, statistical techniques such as machine learning can only deal with numbers. Therefore, we need to convert our text into numbers (vectors) so as the algorithms will be able make predictions.\n",
    "\n",
    "Different approaches exist to convert text into the corresponding numerical form. In this case I will use the Term Frequency — Inverse Document Frequency (TFIDF) weight to evaluate how important a word is to a document in a collection of documents. Note that we are passing a number of parameters to this work:\n",
    "    \n",
    "+ min_df is used for removing terms that appear too infrequently, set to 0.002 means \"ignore terms that appear in less than 0.2% of the documents\". This is to avoid rare words, which drastically increase the size of our features and might cause overfitting.      \n",
    "+ max_df is used for removing terms that appear too frequently, set to 0.95 means \"ignore terms that appear in more than 95% of the documents\".    \n",
    "+ norm is set to l2, to ensure all our feature vectors have a euclidian norm of 1. This is helpful for visualizing these vectors, and can also improve (or deteriorate) the performance of some models.   \n",
    "+ ngram_range is set to (1, 2) to indicate that we want to consider both unigrams and bigrams, or in other terms: we want to consider single words (\"prices\", \"player\") and pairs of words (\"stock prices\", \"football player\").   \n",
    "+ stop_words is set to \"english\" to remove all common pronouns (\"a\", \"the\", ...) and further reduce the number of noisy features.   \n",
    "+ sublinear_df is set to True to use a logarithmic form for frequency, to give diminishing returns as the frequency of a word increases.   \n"
   ]
  },
  {
   "cell_type": "code",
   "execution_count": 26,
   "id": "8f4c4f02",
   "metadata": {},
   "outputs": [],
   "source": [
    "# use IFIDF to convert words into numerical features\n",
    "vectorizer = TfidfVectorizer(min_df=0.002, max_df=0.95, norm='l2', ngram_range=(1, 2), stop_words='english', sublinear_tf=True)\n",
    "X = vectorizer.fit_transform(train.Text)\n",
    "    "
   ]
  },
  {
   "cell_type": "code",
   "execution_count": 27,
   "id": "973f3f6c",
   "metadata": {},
   "outputs": [
    {
     "data": {
      "text/plain": [
       "array([[0.        , 0.        , 0.        , ..., 0.        , 0.        ,\n",
       "        0.        ],\n",
       "       [0.        , 0.        , 0.04042066, ..., 0.        , 0.        ,\n",
       "        0.        ],\n",
       "       [0.        , 0.        , 0.03212369, ..., 0.        , 0.        ,\n",
       "        0.        ],\n",
       "       ...,\n",
       "       [0.        , 0.        , 0.03232147, ..., 0.        , 0.        ,\n",
       "        0.        ],\n",
       "       [0.        , 0.        , 0.        , ..., 0.        , 0.        ,\n",
       "        0.        ],\n",
       "       [0.        , 0.        , 0.03519229, ..., 0.        , 0.        ,\n",
       "        0.        ]])"
      ]
     },
     "execution_count": 27,
     "metadata": {},
     "output_type": "execute_result"
    }
   ],
   "source": [
    "# Get a feel of the features identified by tfidf\n",
    "X.toarray()\n"
   ]
  },
  {
   "cell_type": "code",
   "execution_count": 28,
   "id": "7c5628ee",
   "metadata": {},
   "outputs": [
    {
     "data": {
      "text/plain": [
       "(1187, 15020)"
      ]
     },
     "execution_count": 28,
     "metadata": {},
     "output_type": "execute_result"
    }
   ],
   "source": [
    "# get the shape of the features\n",
    "X.shape\n"
   ]
  },
  {
   "cell_type": "markdown",
   "id": "ed316b2d",
   "metadata": {},
   "source": [
    "Next, I'll build Non-Negative Matrix Factorization (NMF) model.  First, I'm just passing a number of parameters to this model by default, except for n_components=5, because we have 5 topics."
   ]
  },
  {
   "cell_type": "code",
   "execution_count": 29,
   "id": "70b1c659",
   "metadata": {},
   "outputs": [],
   "source": [
    "#create model\n",
    "nmf_model = NMF(n_components=5, \n",
    "                init=None, \n",
    "                solver = 'cd',\n",
    "                beta_loss = 'frobenius',\n",
    "                random_state = 42)\n",
    "\n",
    "# fit and transform the model to TF-IDF:\n",
    "W = nmf_model.fit_transform(X)\n",
    "H = nmf_model.components_"
   ]
  },
  {
   "cell_type": "code",
   "execution_count": 30,
   "id": "ee742a6a",
   "metadata": {},
   "outputs": [
    {
     "data": {
      "text/plain": [
       "(1187, 5)"
      ]
     },
     "execution_count": 30,
     "metadata": {},
     "output_type": "execute_result"
    }
   ],
   "source": [
    "# features dimension\n",
    "W.shape"
   ]
  },
  {
   "cell_type": "code",
   "execution_count": 31,
   "id": "de7f903e",
   "metadata": {},
   "outputs": [
    {
     "data": {
      "text/plain": [
       "(5, 15020)"
      ]
     },
     "execution_count": 31,
     "metadata": {},
     "output_type": "execute_result"
    }
   ],
   "source": [
    "# components dimension\n",
    "H.shape"
   ]
  },
  {
   "cell_type": "code",
   "execution_count": 32,
   "id": "1bd2959c",
   "metadata": {},
   "outputs": [
    {
     "data": {
      "text/html": [
       "<div>\n",
       "<style scoped>\n",
       "    .dataframe tbody tr th:only-of-type {\n",
       "        vertical-align: middle;\n",
       "    }\n",
       "\n",
       "    .dataframe tbody tr th {\n",
       "        vertical-align: top;\n",
       "    }\n",
       "\n",
       "    .dataframe thead th {\n",
       "        text-align: right;\n",
       "    }\n",
       "</style>\n",
       "<table border=\"1\" class=\"dataframe\">\n",
       "  <thead>\n",
       "    <tr style=\"text-align: right;\">\n",
       "      <th></th>\n",
       "      <th>00</th>\n",
       "      <th>00 draw</th>\n",
       "      <th>000</th>\n",
       "      <th>000 amicus</th>\n",
       "      <th>000 balloted</th>\n",
       "      <th>000 barrel</th>\n",
       "      <th>000 business</th>\n",
       "      <th>000 car</th>\n",
       "      <th>000 complaint</th>\n",
       "      <th>000 copy</th>\n",
       "      <th>...</th>\n",
       "      <th>zero tolerance</th>\n",
       "      <th>zhang</th>\n",
       "      <th>zimbabwe</th>\n",
       "      <th>ziyi</th>\n",
       "      <th>ziyi zhang</th>\n",
       "      <th>zombie</th>\n",
       "      <th>zone</th>\n",
       "      <th>zoom</th>\n",
       "      <th>zurich</th>\n",
       "      <th>zurich premiership</th>\n",
       "    </tr>\n",
       "  </thead>\n",
       "  <tbody>\n",
       "    <tr>\n",
       "      <th>0</th>\n",
       "      <td>0.000000</td>\n",
       "      <td>0.000515</td>\n",
       "      <td>0.127216</td>\n",
       "      <td>0.000000</td>\n",
       "      <td>0.000000</td>\n",
       "      <td>0.000000</td>\n",
       "      <td>0.000893</td>\n",
       "      <td>0.001538</td>\n",
       "      <td>0.006656</td>\n",
       "      <td>0.004646</td>\n",
       "      <td>...</td>\n",
       "      <td>0.000000</td>\n",
       "      <td>0.000000</td>\n",
       "      <td>0.000000</td>\n",
       "      <td>0.000000</td>\n",
       "      <td>0.000000</td>\n",
       "      <td>0.017592</td>\n",
       "      <td>0.006198</td>\n",
       "      <td>0.017319</td>\n",
       "      <td>0.000000</td>\n",
       "      <td>0.000000</td>\n",
       "    </tr>\n",
       "    <tr>\n",
       "      <th>1</th>\n",
       "      <td>0.014613</td>\n",
       "      <td>0.008882</td>\n",
       "      <td>0.017295</td>\n",
       "      <td>0.000000</td>\n",
       "      <td>0.000000</td>\n",
       "      <td>0.000000</td>\n",
       "      <td>0.000000</td>\n",
       "      <td>0.000000</td>\n",
       "      <td>0.000313</td>\n",
       "      <td>0.000000</td>\n",
       "      <td>...</td>\n",
       "      <td>0.004520</td>\n",
       "      <td>0.000000</td>\n",
       "      <td>0.007543</td>\n",
       "      <td>0.000000</td>\n",
       "      <td>0.000000</td>\n",
       "      <td>0.000000</td>\n",
       "      <td>0.007335</td>\n",
       "      <td>0.000000</td>\n",
       "      <td>0.010289</td>\n",
       "      <td>0.010751</td>\n",
       "    </tr>\n",
       "    <tr>\n",
       "      <th>2</th>\n",
       "      <td>0.001530</td>\n",
       "      <td>0.000000</td>\n",
       "      <td>0.066593</td>\n",
       "      <td>0.003640</td>\n",
       "      <td>0.003640</td>\n",
       "      <td>0.000000</td>\n",
       "      <td>0.003314</td>\n",
       "      <td>0.000000</td>\n",
       "      <td>0.000785</td>\n",
       "      <td>0.000000</td>\n",
       "      <td>...</td>\n",
       "      <td>0.007903</td>\n",
       "      <td>0.000000</td>\n",
       "      <td>0.001757</td>\n",
       "      <td>0.000000</td>\n",
       "      <td>0.000000</td>\n",
       "      <td>0.000000</td>\n",
       "      <td>0.001702</td>\n",
       "      <td>0.000000</td>\n",
       "      <td>0.000000</td>\n",
       "      <td>0.000000</td>\n",
       "    </tr>\n",
       "    <tr>\n",
       "      <th>3</th>\n",
       "      <td>0.000000</td>\n",
       "      <td>0.000000</td>\n",
       "      <td>0.036131</td>\n",
       "      <td>0.000000</td>\n",
       "      <td>0.000000</td>\n",
       "      <td>0.000000</td>\n",
       "      <td>0.000000</td>\n",
       "      <td>0.000000</td>\n",
       "      <td>0.002122</td>\n",
       "      <td>0.008509</td>\n",
       "      <td>...</td>\n",
       "      <td>0.000000</td>\n",
       "      <td>0.026069</td>\n",
       "      <td>0.001553</td>\n",
       "      <td>0.019936</td>\n",
       "      <td>0.019936</td>\n",
       "      <td>0.003006</td>\n",
       "      <td>0.001654</td>\n",
       "      <td>0.000000</td>\n",
       "      <td>0.000000</td>\n",
       "      <td>0.000000</td>\n",
       "    </tr>\n",
       "    <tr>\n",
       "      <th>4</th>\n",
       "      <td>0.000000</td>\n",
       "      <td>0.000000</td>\n",
       "      <td>0.080791</td>\n",
       "      <td>0.000157</td>\n",
       "      <td>0.000157</td>\n",
       "      <td>0.010749</td>\n",
       "      <td>0.002367</td>\n",
       "      <td>0.011482</td>\n",
       "      <td>0.000939</td>\n",
       "      <td>0.000923</td>\n",
       "      <td>...</td>\n",
       "      <td>0.000000</td>\n",
       "      <td>0.000000</td>\n",
       "      <td>0.001556</td>\n",
       "      <td>0.000000</td>\n",
       "      <td>0.000000</td>\n",
       "      <td>0.000000</td>\n",
       "      <td>0.009115</td>\n",
       "      <td>0.000000</td>\n",
       "      <td>0.004595</td>\n",
       "      <td>0.000000</td>\n",
       "    </tr>\n",
       "  </tbody>\n",
       "</table>\n",
       "<p>5 rows × 15020 columns</p>\n",
       "</div>"
      ],
      "text/plain": [
       "         00   00 draw       000  000 amicus  000 balloted  000 barrel  \\\n",
       "0  0.000000  0.000515  0.127216    0.000000      0.000000    0.000000   \n",
       "1  0.014613  0.008882  0.017295    0.000000      0.000000    0.000000   \n",
       "2  0.001530  0.000000  0.066593    0.003640      0.003640    0.000000   \n",
       "3  0.000000  0.000000  0.036131    0.000000      0.000000    0.000000   \n",
       "4  0.000000  0.000000  0.080791    0.000157      0.000157    0.010749   \n",
       "\n",
       "   000 business   000 car  000 complaint  000 copy  ...  zero tolerance  \\\n",
       "0      0.000893  0.001538       0.006656  0.004646  ...        0.000000   \n",
       "1      0.000000  0.000000       0.000313  0.000000  ...        0.004520   \n",
       "2      0.003314  0.000000       0.000785  0.000000  ...        0.007903   \n",
       "3      0.000000  0.000000       0.002122  0.008509  ...        0.000000   \n",
       "4      0.002367  0.011482       0.000939  0.000923  ...        0.000000   \n",
       "\n",
       "      zhang  zimbabwe      ziyi  ziyi zhang    zombie      zone      zoom  \\\n",
       "0  0.000000  0.000000  0.000000    0.000000  0.017592  0.006198  0.017319   \n",
       "1  0.000000  0.007543  0.000000    0.000000  0.000000  0.007335  0.000000   \n",
       "2  0.000000  0.001757  0.000000    0.000000  0.000000  0.001702  0.000000   \n",
       "3  0.026069  0.001553  0.019936    0.019936  0.003006  0.001654  0.000000   \n",
       "4  0.000000  0.001556  0.000000    0.000000  0.000000  0.009115  0.000000   \n",
       "\n",
       "     zurich  zurich premiership  \n",
       "0  0.000000            0.000000  \n",
       "1  0.010289            0.010751  \n",
       "2  0.000000            0.000000  \n",
       "3  0.000000            0.000000  \n",
       "4  0.004595            0.000000  \n",
       "\n",
       "[5 rows x 15020 columns]"
      ]
     },
     "execution_count": 32,
     "metadata": {},
     "output_type": "execute_result"
    }
   ],
   "source": [
    "# Create a DataFrame: components_df\n",
    "components_df = pd.DataFrame(H, columns=vectorizer.get_feature_names())\n",
    "components_df"
   ]
  },
  {
   "cell_type": "markdown",
   "id": "6ef77c3c",
   "metadata": {},
   "source": [
    "We have created the 5 topics using NMF. Let’s have a look at the 10 more important words for each topic.\n"
   ]
  },
  {
   "cell_type": "code",
   "execution_count": 33,
   "id": "aef4c125",
   "metadata": {},
   "outputs": [
    {
     "name": "stdout",
     "output_type": "stream",
     "text": [
      "For topic 1 the words with the highest value are:\n",
      "people        0.345764\n",
      "user          0.311274\n",
      "technology    0.302175\n",
      "phone         0.272005\n",
      "mobile        0.268877\n",
      "digital       0.263531\n",
      "service       0.259729\n",
      "computer      0.252358\n",
      "music         0.247690\n",
      "software      0.246573\n",
      "Name: 0, dtype: float64\n",
      "\n",
      "\n",
      "For topic 2 the words with the highest value are:\n",
      "game        0.347778\n",
      "win         0.259950\n",
      "player      0.255049\n",
      "england     0.248411\n",
      "match       0.243483\n",
      "cup         0.217961\n",
      "champion    0.210155\n",
      "play        0.208086\n",
      "injury      0.203786\n",
      "team        0.202624\n",
      "Name: 1, dtype: float64\n",
      "\n",
      "\n",
      "For topic 3 the words with the highest value are:\n",
      "mr                0.353970\n",
      "labour            0.343664\n",
      "election          0.335550\n",
      "party             0.296008\n",
      "blair             0.287186\n",
      "minister          0.267165\n",
      "tory              0.266430\n",
      "government        0.258987\n",
      "prime minister    0.205558\n",
      "prime             0.205421\n",
      "Name: 2, dtype: float64\n",
      "\n",
      "\n",
      "For topic 4 the words with the highest value are:\n",
      "film          0.501122\n",
      "award         0.385936\n",
      "best          0.301244\n",
      "actor         0.277695\n",
      "star          0.252687\n",
      "oscar         0.240120\n",
      "actress       0.213038\n",
      "nomination    0.184176\n",
      "director      0.182146\n",
      "comedy        0.170595\n",
      "Name: 3, dtype: float64\n",
      "\n",
      "\n",
      "For topic 5 the words with the highest value are:\n",
      "market     0.240909\n",
      "said       0.222460\n",
      "company    0.216364\n",
      "firm       0.211416\n",
      "growth     0.201073\n",
      "share      0.198104\n",
      "year       0.195011\n",
      "economy    0.185288\n",
      "bank       0.183617\n",
      "price      0.174149\n",
      "Name: 4, dtype: float64\n",
      "\n",
      "\n"
     ]
    }
   ],
   "source": [
    "# get 10 more important words for each topic\n",
    "for topic in range(components_df.shape[0]):\n",
    "    tmp = components_df.iloc[topic]\n",
    "    print(f'For topic {topic+1} the words with the highest value are:')\n",
    "    print(tmp.nlargest(10))\n",
    "    print('\\n')"
   ]
  },
  {
   "cell_type": "code",
   "execution_count": 34,
   "id": "fe99a9df",
   "metadata": {},
   "outputs": [],
   "source": [
    "# create predict function\n",
    "def predict(W):\n",
    "    sortedW = np.argsort(W)\n",
    "    n_prediction, maxValue = sortedW.shape\n",
    "    prediction = [[sortedW[i][maxValue - 1]] for i in range(n_prediction)]\n",
    "    topic = np.empty(n_prediction, dtype = np.int64)\n",
    "    for i in range(n_prediction):\n",
    "        topic[i] = prediction[i][0]\n",
    "    return topic\n"
   ]
  },
  {
   "cell_type": "code",
   "execution_count": 35,
   "id": "4da71a8c",
   "metadata": {},
   "outputs": [],
   "source": [
    "# create label permuation compare\n",
    "def label_permute_compare(ytdf,yp,n=5):\n",
    "    \"\"\"\n",
    "    ytdf: labels dataframe object\n",
    "    yp: clustering label prediction output\n",
    "    Returns permuted label order and accuracy. \n",
    "    Example output: (3, 4, 1, 2, 0), 0.74 \n",
    "    \"\"\"\n",
    "    p = list(itertools.permutations(list(range(n))))\n",
    "    label_ls = list(ytdf['Category'].unique())\n",
    "    acc_score = []\n",
    "    for i in range(len(p)):\n",
    "        map_dict = dict(zip(label_ls, list(p[i])))\n",
    "        yt = ytdf['Category'].apply(lambda x:map_dict[x])\n",
    "        acc_score.append(accuracy_score(yt, yp))\n",
    "    index = np.argmax(acc_score)\n",
    "    return p[index], acc_score[index]\n"
   ]
  },
  {
   "cell_type": "code",
   "execution_count": 36,
   "id": "1d2770bf",
   "metadata": {},
   "outputs": [
    {
     "name": "stdout",
     "output_type": "stream",
     "text": [
      "\n",
      "Label order for training set based on NMF:  (2, 4, 0, 3, 1)\n",
      "\n",
      "Accuracy for training set based on NMF: 94.861%\n"
     ]
    }
   ],
   "source": [
    "# predict, show best labels for the train model and calculate accuracy\n",
    "yhat_train = predict(W)\n",
    "label_order, accuracy = label_permute_compare(train, yhat_train)\n",
    "print('\\nLabel order for training set based on NMF: ', label_order)\n",
    "print('\\nAccuracy for training set based on NMF: {:.3f}%'.format(accuracy*100))\n"
   ]
  },
  {
   "cell_type": "code",
   "execution_count": 37,
   "id": "99ebe438",
   "metadata": {},
   "outputs": [
    {
     "name": "stdout",
     "output_type": "stream",
     "text": [
      "\n",
      "Confusion matrix for training set based on NMF: \n"
     ]
    },
    {
     "data": {
      "text/plain": [
       "array([[192,   6,   2,   3,   5],\n",
       "       [  0, 264,   1,   2,   2],\n",
       "       [  3,   0, 206,   0,   9],\n",
       "       [ 10,   2,   1, 204,   8],\n",
       "       [  2,   0,   5,   0, 260]])"
      ]
     },
     "execution_count": 37,
     "metadata": {},
     "output_type": "execute_result"
    }
   ],
   "source": [
    "# Check confusion matrix\n",
    "mapdict = dict(zip(list(train[\"Category\"].unique()), label_order))\n",
    "yt = train[\"Category\"].apply(lambda x: mapdict[x])\n",
    "print('\\nConfusion matrix for training set based on NMF: ')\n",
    "confusion_matrix(yt, yhat_train)"
   ]
  },
  {
   "cell_type": "code",
   "execution_count": 38,
   "id": "6dfb4378",
   "metadata": {},
   "outputs": [
    {
     "name": "stdout",
     "output_type": "stream",
     "text": [
      "\n",
      "Label order for cross validation set based on NMF:  (3, 0, 1, 2, 4)\n",
      "\n",
      "Accuracy for cross validation set based on NMF: 66.330%\n"
     ]
    }
   ],
   "source": [
    "# predict, show best labels for the cross validatiion model and calculate accuracy\n",
    "X_cross = vectorizer.fit_transform(crossval.Text)\n",
    "W_cross = nmf_model.fit_transform(X_cross)\n",
    "yhat_cross = predict(W_cross)\n",
    "label_order_cross, accuracy_cross = label_permute_compare(crossval, yhat_cross)\n",
    "print('\\nLabel order for cross validation set based on NMF: ', label_order_cross)\n",
    "print('\\nAccuracy for cross validation set based on NMF: {:.3f}%'.format(accuracy_cross*100))\n"
   ]
  },
  {
   "cell_type": "code",
   "execution_count": 39,
   "id": "a7588df8",
   "metadata": {},
   "outputs": [
    {
     "name": "stdout",
     "output_type": "stream",
     "text": [
      "\n",
      "Confusion matrix for cross validation set based on NMF: \n"
     ]
    },
    {
     "data": {
      "text/plain": [
       "array([[68,  0,  1,  0,  0],\n",
       "       [ 2, 49,  1,  0,  2],\n",
       "       [ 0,  0, 75,  0,  0],\n",
       "       [47,  0,  0,  5,  0],\n",
       "       [22,  3, 17,  5,  0]])"
      ]
     },
     "execution_count": 39,
     "metadata": {},
     "output_type": "execute_result"
    }
   ],
   "source": [
    "# Check confusion matrix\n",
    "mapdict_cross = dict(zip(list(crossval[\"Category\"].unique()), label_order_cross))\n",
    "yt_cross = crossval[\"Category\"].apply(lambda x: mapdict_cross[x])\n",
    "print('\\nConfusion matrix for cross validation set based on NMF: ')\n",
    "confusion_matrix(yt_cross, yhat_cross)\n"
   ]
  },
  {
   "cell_type": "markdown",
   "id": "fd431794",
   "metadata": {},
   "source": [
    "#### Improve NMF  model"
   ]
  },
  {
   "cell_type": "markdown",
   "id": "10b00a95",
   "metadata": {},
   "source": [
    "Choosing the parameters for NMF model by default, we got a low accuracy score for the train and cross validation set. Because embeddings are the \"computational representation\" of our data, the representation of a word in the vector space is defined by its surroundings, the words that it commonly goes along with. Therefore, to create embeddings, the larger the corpus, the better, since it can better place a word vector in the vector space and hence compare it to other similar words. To improve the accuracy score, I'll not splitting the data, use the entire dataset, to obtain a more wholesome word embedding representation. And then I'll programmatically evaluate which init, solver and beta_loss metric lead to the best performance and use this best model to predict on the test data."
   ]
  },
  {
   "cell_type": "code",
   "execution_count": 40,
   "id": "c62a0bf3",
   "metadata": {},
   "outputs": [],
   "source": [
    "# use IFIDF to convert words into numerical features\n",
    "vectorizer = TfidfVectorizer(min_df=0.002, max_df=0.95, norm='l2', ngram_range=(1, 2), stop_words='english', sublinear_tf=True)\n",
    "X_df = vectorizer.fit_transform(train_df.Text)"
   ]
  },
  {
   "cell_type": "code",
   "execution_count": 41,
   "id": "a28bf140",
   "metadata": {},
   "outputs": [],
   "source": [
    "#create model\n",
    "nmf_model = NMF(n_components=5, \n",
    "                init=None, \n",
    "                solver = 'cd',\n",
    "                beta_loss = 'frobenius',\n",
    "                random_state = 42)\n",
    "\n",
    "# fit and transform the model to TF-IDF:\n",
    "W_df = nmf_model.fit_transform(X_df)"
   ]
  },
  {
   "cell_type": "code",
   "execution_count": 42,
   "id": "ca38c349",
   "metadata": {},
   "outputs": [
    {
     "name": "stdout",
     "output_type": "stream",
     "text": [
      "\n",
      "Label order for training set based on NMF:  (4, 0, 2, 1, 3)\n",
      "\n",
      "Accuracy for entire dataset based on NMF: 95.620%\n"
     ]
    }
   ],
   "source": [
    "# predict, show best labels for the train model and calculate accuracy\n",
    "yhat_train_df = predict(W_df)\n",
    "label_order_df, accuracy_df = label_permute_compare(train_df, yhat_train_df)\n",
    "print('\\nLabel order for training set based on NMF: ', label_order_df)\n",
    "print('\\nAccuracy for entire dataset based on NMF: {:.3f}%'.format(accuracy_df*100))\n"
   ]
  },
  {
   "cell_type": "markdown",
   "id": "d77b7373",
   "metadata": {},
   "source": [
    "As the result above, we can see that the accuracy score when using entire dataset is higher than when splitting the data. Next, I'll programmatically evaluate which init, solver and beta_loss metric lead to the best performance and use this best model to predict on the test data."
   ]
  },
  {
   "cell_type": "code",
   "execution_count": 43,
   "id": "a5061a6f",
   "metadata": {},
   "outputs": [
    {
     "name": "stdout",
     "output_type": "stream",
     "text": [
      "random with kullback-leibler with cd not allowed.\n",
      "random with itakura-saito with cd not allowed.\n",
      "random with itakura-saito with mu not allowed.\n",
      "nndsvda with kullback-leibler with cd not allowed.\n",
      "nndsvda with itakura-saito with cd not allowed.\n",
      "nndsvda with itakura-saito with mu not allowed.\n",
      "nndsvdar with kullback-leibler with cd not allowed.\n",
      "nndsvdar with itakura-saito with cd not allowed.\n",
      "nndsvdar with itakura-saito with mu not allowed.\n",
      "custom with frobenius with cd not allowed.\n",
      "custom with frobenius with mu not allowed.\n",
      "custom with kullback-leibler with cd not allowed.\n",
      "custom with kullback-leibler with mu not allowed.\n",
      "custom with itakura-saito with cd not allowed.\n",
      "custom with itakura-saito with mu not allowed.\n"
     ]
    },
    {
     "data": {
      "text/html": [
       "<div>\n",
       "<style scoped>\n",
       "    .dataframe tbody tr th:only-of-type {\n",
       "        vertical-align: middle;\n",
       "    }\n",
       "\n",
       "    .dataframe tbody tr th {\n",
       "        vertical-align: top;\n",
       "    }\n",
       "\n",
       "    .dataframe thead th {\n",
       "        text-align: right;\n",
       "    }\n",
       "</style>\n",
       "<table border=\"1\" class=\"dataframe\">\n",
       "  <thead>\n",
       "    <tr style=\"text-align: right;\">\n",
       "      <th></th>\n",
       "      <th>time</th>\n",
       "      <th>init</th>\n",
       "      <th>solver</th>\n",
       "      <th>beta_loss</th>\n",
       "      <th>labelorder</th>\n",
       "      <th>acc</th>\n",
       "    </tr>\n",
       "  </thead>\n",
       "  <tbody>\n",
       "    <tr>\n",
       "      <th>5</th>\n",
       "      <td>3.217015</td>\n",
       "      <td>nndsvda</td>\n",
       "      <td>mu</td>\n",
       "      <td>kullback-leibler</td>\n",
       "      <td>(4, 0, 2, 1, 3)</td>\n",
       "      <td>0.964286</td>\n",
       "    </tr>\n",
       "    <tr>\n",
       "      <th>8</th>\n",
       "      <td>3.619843</td>\n",
       "      <td>nndsvdar</td>\n",
       "      <td>mu</td>\n",
       "      <td>kullback-leibler</td>\n",
       "      <td>(4, 0, 2, 1, 3)</td>\n",
       "      <td>0.962264</td>\n",
       "    </tr>\n",
       "    <tr>\n",
       "      <th>1</th>\n",
       "      <td>0.321175</td>\n",
       "      <td>random</td>\n",
       "      <td>mu</td>\n",
       "      <td>frobenius</td>\n",
       "      <td>(0, 3, 4, 1, 2)</td>\n",
       "      <td>0.960916</td>\n",
       "    </tr>\n",
       "    <tr>\n",
       "      <th>3</th>\n",
       "      <td>0.267021</td>\n",
       "      <td>nndsvda</td>\n",
       "      <td>cd</td>\n",
       "      <td>frobenius</td>\n",
       "      <td>(4, 0, 2, 1, 3)</td>\n",
       "      <td>0.956873</td>\n",
       "    </tr>\n",
       "    <tr>\n",
       "      <th>6</th>\n",
       "      <td>0.270493</td>\n",
       "      <td>nndsvdar</td>\n",
       "      <td>cd</td>\n",
       "      <td>frobenius</td>\n",
       "      <td>(4, 0, 2, 1, 3)</td>\n",
       "      <td>0.956873</td>\n",
       "    </tr>\n",
       "    <tr>\n",
       "      <th>4</th>\n",
       "      <td>0.286090</td>\n",
       "      <td>nndsvda</td>\n",
       "      <td>mu</td>\n",
       "      <td>frobenius</td>\n",
       "      <td>(4, 0, 2, 1, 3)</td>\n",
       "      <td>0.951482</td>\n",
       "    </tr>\n",
       "    <tr>\n",
       "      <th>7</th>\n",
       "      <td>0.338082</td>\n",
       "      <td>nndsvdar</td>\n",
       "      <td>mu</td>\n",
       "      <td>frobenius</td>\n",
       "      <td>(4, 0, 2, 1, 3)</td>\n",
       "      <td>0.950135</td>\n",
       "    </tr>\n",
       "    <tr>\n",
       "      <th>0</th>\n",
       "      <td>0.199140</td>\n",
       "      <td>random</td>\n",
       "      <td>cd</td>\n",
       "      <td>frobenius</td>\n",
       "      <td>(3, 4, 0, 1, 2)</td>\n",
       "      <td>0.942722</td>\n",
       "    </tr>\n",
       "    <tr>\n",
       "      <th>2</th>\n",
       "      <td>6.042528</td>\n",
       "      <td>random</td>\n",
       "      <td>mu</td>\n",
       "      <td>kullback-leibler</td>\n",
       "      <td>(4, 2, 3, 1, 0)</td>\n",
       "      <td>0.629380</td>\n",
       "    </tr>\n",
       "  </tbody>\n",
       "</table>\n",
       "</div>"
      ],
      "text/plain": [
       "       time      init solver         beta_loss       labelorder       acc\n",
       "5  3.217015   nndsvda     mu  kullback-leibler  (4, 0, 2, 1, 3)  0.964286\n",
       "8  3.619843  nndsvdar     mu  kullback-leibler  (4, 0, 2, 1, 3)  0.962264\n",
       "1  0.321175    random     mu         frobenius  (0, 3, 4, 1, 2)  0.960916\n",
       "3  0.267021   nndsvda     cd         frobenius  (4, 0, 2, 1, 3)  0.956873\n",
       "6  0.270493  nndsvdar     cd         frobenius  (4, 0, 2, 1, 3)  0.956873\n",
       "4  0.286090   nndsvda     mu         frobenius  (4, 0, 2, 1, 3)  0.951482\n",
       "7  0.338082  nndsvdar     mu         frobenius  (4, 0, 2, 1, 3)  0.950135\n",
       "0  0.199140    random     cd         frobenius  (3, 4, 0, 1, 2)  0.942722\n",
       "2  6.042528    random     mu  kullback-leibler  (4, 2, 3, 1, 0)  0.629380"
      ]
     },
     "metadata": {},
     "output_type": "display_data"
    }
   ],
   "source": [
    "# programmatically evaluate which init, solver and beta_loss metric lead to the best performance\n",
    "dic = {\"time\":0, \"init\":\"\", \"solver\": \"\", \"beta_loss\":\"\", \"labelorder\":[], \"acc\":0}\n",
    "df = pd.DataFrame(dic)\n",
    "for init in [\"random\", \"nndsvda\", \"nndsvdar\", \"custom\"]:\n",
    "    for beta_loss in [\"frobenius\", \"kullback-leibler\", \"itakura-saito\"]:\n",
    "        for solver in [\"cd\", \"mu\"]:\n",
    "            acc = 0\n",
    "            t0 = time.time()\n",
    "            try:\n",
    "                model = NMF(n_components=5, init=init, solver = solver, beta_loss=beta_loss, random_state = 42)\n",
    "                yhat_train_df = predict(model.fit_transform(X_df))\n",
    "                label_order, acc = label_permute_compare(train_df, yhat_train_df)\n",
    "                t1 = time.time()\n",
    "                df.loc[len(df.index)] = [t1-t0, init, solver, beta_loss, label_order, acc]\n",
    "              \n",
    "            except:\n",
    "                print(init, \"with\", beta_loss, \"with\", solver, \"not allowed.\")\n",
    "df = df.sort_values(by='acc', ascending = False)\n",
    "display(df)\n"
   ]
  },
  {
   "cell_type": "code",
   "execution_count": 44,
   "id": "cb70fcc0",
   "metadata": {},
   "outputs": [
    {
     "name": "stdout",
     "output_type": "stream",
     "text": [
      "\n",
      "Label order for entire dataset based on best NMF:  {'business': 4, 'tech': 0, 'politics': 2, 'sport': 1, 'entertainment': 3}\n",
      "\n",
      "Accuracy for training set based on best NMF: 96.429%\n",
      "\n",
      "Confusion matrix for training set based on best NMF: \n"
     ]
    },
    {
     "data": {
      "text/plain": [
       "array([[254,   0,   0,   5,   1],\n",
       "       [  1, 333,  10,   0,   0],\n",
       "       [  1,   0, 268,   1,   2],\n",
       "       [  7,   0,   2, 262,   1],\n",
       "       [ 16,   0,   5,   1, 314]])"
      ]
     },
     "execution_count": 44,
     "metadata": {},
     "output_type": "execute_result"
    }
   ],
   "source": [
    "# show the best model\n",
    "best_model = NMF(n_components=5, init=\"nndsvda\", solver = \"mu\", beta_loss=\"kullback-leibler\", random_state = 42)\n",
    "\n",
    "# use best model for predicting training set\n",
    "yhat_train_df = predict(best_model.fit_transform(X_df))\n",
    "label_order_df, acc_df = label_permute_compare(train_df, yhat_train_df)\n",
    "mapdict_df = dict(zip(list(train_df[\"Category\"].unique()), label_order_df))\n",
    "print('\\nLabel order for entire dataset based on best NMF: ', mapdict_df)\n",
    "print('\\nAccuracy for training set based on best NMF: {:.3f}%'.format(acc_df*100))\n",
    "\n",
    "# Check confusion matrix\n",
    "#mapdict_df = dict(zip(list(train_df[\"Category\"].unique()), label_order_df))\n",
    "yt_df = train_df[\"Category\"].apply(lambda x: mapdict_df[x])\n",
    "print('\\nConfusion matrix for training set based on best NMF: ')\n",
    "confusion_matrix(yt_df, yhat_train_df)"
   ]
  },
  {
   "cell_type": "markdown",
   "id": "3d47298f",
   "metadata": {},
   "source": [
    "#### Use best model to predict test data"
   ]
  },
  {
   "cell_type": "markdown",
   "id": "488bc7cd",
   "metadata": {},
   "source": [
    "After finding the best model for our data, now we will test this model on the test set and print out the result. Again, before predicting, we need to repeat the same steps to clean the test data like we did in the train data."
   ]
  },
  {
   "cell_type": "code",
   "execution_count": 45,
   "id": "c48090d2",
   "metadata": {},
   "outputs": [
    {
     "data": {
      "text/html": [
       "<div>\n",
       "<style scoped>\n",
       "    .dataframe tbody tr th:only-of-type {\n",
       "        vertical-align: middle;\n",
       "    }\n",
       "\n",
       "    .dataframe tbody tr th {\n",
       "        vertical-align: top;\n",
       "    }\n",
       "\n",
       "    .dataframe thead th {\n",
       "        text-align: right;\n",
       "    }\n",
       "</style>\n",
       "<table border=\"1\" class=\"dataframe\">\n",
       "  <thead>\n",
       "    <tr style=\"text-align: right;\">\n",
       "      <th></th>\n",
       "      <th>ArticleId</th>\n",
       "      <th>Text</th>\n",
       "    </tr>\n",
       "  </thead>\n",
       "  <tbody>\n",
       "    <tr>\n",
       "      <th>0</th>\n",
       "      <td>1018</td>\n",
       "      <td>qpr keeper day heads for preston queens park r...</td>\n",
       "    </tr>\n",
       "    <tr>\n",
       "      <th>1</th>\n",
       "      <td>1319</td>\n",
       "      <td>software watching while you work software that...</td>\n",
       "    </tr>\n",
       "    <tr>\n",
       "      <th>2</th>\n",
       "      <td>1138</td>\n",
       "      <td>d arcy injury adds to ireland woe gordon d arc...</td>\n",
       "    </tr>\n",
       "    <tr>\n",
       "      <th>3</th>\n",
       "      <td>459</td>\n",
       "      <td>india s reliance family feud heats up the ongo...</td>\n",
       "    </tr>\n",
       "    <tr>\n",
       "      <th>4</th>\n",
       "      <td>1020</td>\n",
       "      <td>boro suffer morrison injury blow middlesbrough...</td>\n",
       "    </tr>\n",
       "  </tbody>\n",
       "</table>\n",
       "</div>"
      ],
      "text/plain": [
       "   ArticleId                                               Text\n",
       "0       1018  qpr keeper day heads for preston queens park r...\n",
       "1       1319  software watching while you work software that...\n",
       "2       1138  d arcy injury adds to ireland woe gordon d arc...\n",
       "3        459  india s reliance family feud heats up the ongo...\n",
       "4       1020  boro suffer morrison injury blow middlesbrough..."
      ]
     },
     "execution_count": 45,
     "metadata": {},
     "output_type": "execute_result"
    }
   ],
   "source": [
    "# take a look at some rows of test data\n",
    "test_df.head()"
   ]
  },
  {
   "cell_type": "code",
   "execution_count": 46,
   "id": "a34dad91",
   "metadata": {},
   "outputs": [
    {
     "data": {
      "text/plain": [
       "'qpr keeper day head preston queen park ranger keeper chris day set join preston month loan day displaced arrival simon royce second month loan charlton qpr also signed italian generoso rossi r manager ian holloway said might say risk recalled month simon royce recalled charlton iron fire yes couple others need day ranger contract expires summer meanwhile holloway hoping complete signing middlesbrough defender andy davy either permanently loan saturday match ipswich davy impressed recent loan spell loftus road holloway also chasing bristol city midfielder tom doherty'"
      ]
     },
     "execution_count": 46,
     "metadata": {},
     "output_type": "execute_result"
    }
   ],
   "source": [
    "# clean test data\n",
    "clean_text(test_df, \"Text\")\n",
    "\n",
    "# view text in the first row after cleaning all text data\n",
    "test_df[\"Text\"][0]"
   ]
  },
  {
   "cell_type": "code",
   "execution_count": 47,
   "id": "7b857b10",
   "metadata": {},
   "outputs": [
    {
     "data": {
      "text/html": [
       "<div>\n",
       "<style scoped>\n",
       "    .dataframe tbody tr th:only-of-type {\n",
       "        vertical-align: middle;\n",
       "    }\n",
       "\n",
       "    .dataframe tbody tr th {\n",
       "        vertical-align: top;\n",
       "    }\n",
       "\n",
       "    .dataframe thead th {\n",
       "        text-align: right;\n",
       "    }\n",
       "</style>\n",
       "<table border=\"1\" class=\"dataframe\">\n",
       "  <thead>\n",
       "    <tr style=\"text-align: right;\">\n",
       "      <th></th>\n",
       "      <th>ArticleId</th>\n",
       "      <th>Category</th>\n",
       "    </tr>\n",
       "  </thead>\n",
       "  <tbody>\n",
       "    <tr>\n",
       "      <th>0</th>\n",
       "      <td>1018</td>\n",
       "      <td>sport</td>\n",
       "    </tr>\n",
       "    <tr>\n",
       "      <th>1</th>\n",
       "      <td>1319</td>\n",
       "      <td>tech</td>\n",
       "    </tr>\n",
       "    <tr>\n",
       "      <th>2</th>\n",
       "      <td>1138</td>\n",
       "      <td>sport</td>\n",
       "    </tr>\n",
       "    <tr>\n",
       "      <th>3</th>\n",
       "      <td>459</td>\n",
       "      <td>entertainment</td>\n",
       "    </tr>\n",
       "    <tr>\n",
       "      <th>4</th>\n",
       "      <td>1020</td>\n",
       "      <td>sport</td>\n",
       "    </tr>\n",
       "  </tbody>\n",
       "</table>\n",
       "</div>"
      ],
      "text/plain": [
       "   ArticleId       Category\n",
       "0       1018          sport\n",
       "1       1319           tech\n",
       "2       1138          sport\n",
       "3        459  entertainment\n",
       "4       1020          sport"
      ]
     },
     "execution_count": 47,
     "metadata": {},
     "output_type": "execute_result"
    }
   ],
   "source": [
    "# use IFIDF to convert words into numerical features\n",
    "Y = vectorizer.fit_transform(test_df.Text)\n",
    "\n",
    "# predict test data\n",
    "yhat_test = predict(best_model.fit_transform(Y))\n",
    "\n",
    "#create a submission dataframe\n",
    "test_predictions = pd.DataFrame(columns=['ArticleId', 'Category'])\n",
    "test_predictions['ArticleId'] = test_df['ArticleId']\n",
    "test_predictions['yhat'] = yhat_test\n",
    "n_mapdict = dict(zip(label_order_df, list(train_df[\"Category\"].unique())))\n",
    "test_predictions['Category'] = test_predictions['yhat'].apply(lambda x: n_mapdict[x])\n",
    "\n",
    "#delete columns unneeded for submission\n",
    "test_predictions = test_predictions.drop(columns='yhat')\n",
    "\n",
    "# view some first rows of the result\n",
    "test_predictions.head()"
   ]
  },
  {
   "cell_type": "markdown",
   "id": "abf89998",
   "metadata": {},
   "source": [
    "## Step 3: Compare with supervised learning"
   ]
  },
  {
   "cell_type": "markdown",
   "id": "953df8eb",
   "metadata": {},
   "source": [
    "Since our train data has the categories, we can use supervised models to solve the category of each BBC News article. That is, we look for a classifier that can take a word embedding as an input and predict a text class. To keep things simple, we will use the same preprocessing and word embedding produced by TfidfVectorizer with the same hyperparameters and use RandomForest to train model.  \n",
    "\n",
    "With RandomForest, I use oob_score to evaluate the prediction. The out-of-bag (OOB) error is the average error for each  calculated using predictions from the trees that do not contain  in their respective bootstrap sample. This allows the RandomForestClassifier to be fit and validated while being trained. And I'll do hyperparameter tuning for Random Forest using GridSearchCV and fit the data.  \n",
    "\n",
    "I'll also build some other supervised models such as SVM and KNN and use cross validation score to compare with NMF and the best Random Forest."
   ]
  },
  {
   "cell_type": "markdown",
   "id": "465b1420",
   "metadata": {},
   "source": [
    "#### Random Forest"
   ]
  },
  {
   "cell_type": "code",
   "execution_count": 48,
   "id": "24d8bd53",
   "metadata": {},
   "outputs": [
    {
     "data": {
      "text/plain": [
       "0.8564690026954178"
      ]
     },
     "execution_count": 48,
     "metadata": {},
     "output_type": "execute_result"
    }
   ],
   "source": [
    "# build RandomForest model\n",
    "classifier_rf = RandomForestClassifier(random_state=42, n_jobs=-1, max_depth=5, n_estimators=100, oob_score=True)\n",
    "classifier_rf.fit(X_df, train_df.Category)\n",
    "\n",
    "# checking the oob score\n",
    "classifier_rf.oob_score_\n"
   ]
  },
  {
   "cell_type": "markdown",
   "id": "95d23efa",
   "metadata": {},
   "source": [
    "#### Improve Random Forest model"
   ]
  },
  {
   "cell_type": "code",
   "execution_count": 49,
   "id": "19014993",
   "metadata": {},
   "outputs": [
    {
     "name": "stdout",
     "output_type": "stream",
     "text": [
      "Fitting 4 folds for each of 180 candidates, totalling 720 fits\n"
     ]
    },
    {
     "data": {
      "text/plain": [
       "GridSearchCV(cv=4, estimator=RandomForestClassifier(n_jobs=-1, random_state=42),\n",
       "             n_jobs=-1,\n",
       "             param_grid={'max_depth': [2, 3, 5, 10, 20],\n",
       "                         'min_samples_leaf': [5, 10, 20, 50, 100, 200],\n",
       "                         'n_estimators': [10, 25, 30, 50, 100, 200]},\n",
       "             scoring='accuracy', verbose=1)"
      ]
     },
     "execution_count": 49,
     "metadata": {},
     "output_type": "execute_result"
    }
   ],
   "source": [
    "# Let’s do hyperparameter tuning for Random Forest using GridSearchCV and fit the data.\n",
    "rf = RandomForestClassifier(random_state=42, n_jobs=-1)\n",
    "params = {\n",
    "    'max_depth': [2,3,5,10,20],\n",
    "    'min_samples_leaf': [5,10,20,50,100,200],\n",
    "    'n_estimators': [10,25,30,50,100,200]\n",
    "}\n",
    "\n",
    "# Instantiate the grid search model\n",
    "grid_search = GridSearchCV(estimator=rf,\n",
    "                           param_grid=params,\n",
    "                           cv = 4,\n",
    "                           n_jobs=-1, verbose=1, scoring=\"accuracy\")\n",
    "grid_search.fit(X_df, train_df.Category)\n"
   ]
  },
  {
   "cell_type": "code",
   "execution_count": 50,
   "id": "10060f36",
   "metadata": {},
   "outputs": [
    {
     "name": "stdout",
     "output_type": "stream",
     "text": [
      "\n",
      "Random Forest best score: 94.744%\n",
      "\n",
      "Random Forest best model: RandomForestClassifier(max_depth=20, min_samples_leaf=5, n_estimators=200,\n",
      "                       n_jobs=-1, random_state=42)\n"
     ]
    }
   ],
   "source": [
    "# get the best score\n",
    "rf_best_score = grid_search.best_score_\n",
    "print(\"\\nRandom Forest best score: {:.3f}%\".format(rf_best_score*100))\n",
    "\n",
    "# best model\n",
    "rf_best = grid_search.best_estimator_\n",
    "print(\"\\nRandom Forest best model:\", rf_best)"
   ]
  },
  {
   "cell_type": "markdown",
   "id": "733d62c7",
   "metadata": {},
   "source": [
    "After finding the best Random Forest model, now I would like to run some other models as well and compare them."
   ]
  },
  {
   "cell_type": "code",
   "execution_count": 52,
   "id": "230ee298",
   "metadata": {},
   "outputs": [
    {
     "data": {
      "text/html": [
       "<div>\n",
       "<style scoped>\n",
       "    .dataframe tbody tr th:only-of-type {\n",
       "        vertical-align: middle;\n",
       "    }\n",
       "\n",
       "    .dataframe tbody tr th {\n",
       "        vertical-align: top;\n",
       "    }\n",
       "\n",
       "    .dataframe thead th {\n",
       "        text-align: right;\n",
       "    }\n",
       "</style>\n",
       "<table border=\"1\" class=\"dataframe\">\n",
       "  <thead>\n",
       "    <tr style=\"text-align: right;\">\n",
       "      <th></th>\n",
       "      <th>model</th>\n",
       "      <th>acc</th>\n",
       "    </tr>\n",
       "  </thead>\n",
       "  <tbody>\n",
       "    <tr>\n",
       "      <th>1</th>\n",
       "      <td>SVM</td>\n",
       "      <td>97.372</td>\n",
       "    </tr>\n",
       "    <tr>\n",
       "      <th>4</th>\n",
       "      <td>NMF</td>\n",
       "      <td>96.429</td>\n",
       "    </tr>\n",
       "    <tr>\n",
       "      <th>2</th>\n",
       "      <td>KNN</td>\n",
       "      <td>96.361</td>\n",
       "    </tr>\n",
       "    <tr>\n",
       "      <th>3</th>\n",
       "      <td>Random Forest</td>\n",
       "      <td>94.947</td>\n",
       "    </tr>\n",
       "    <tr>\n",
       "      <th>0</th>\n",
       "      <td></td>\n",
       "      <td>0.000</td>\n",
       "    </tr>\n",
       "  </tbody>\n",
       "</table>\n",
       "</div>"
      ],
      "text/plain": [
       "           model     acc\n",
       "1            SVM  97.372\n",
       "4            NMF  96.429\n",
       "2            KNN  96.361\n",
       "3  Random Forest  94.947\n",
       "0                  0.000"
      ]
     },
     "metadata": {},
     "output_type": "display_data"
    }
   ],
   "source": [
    "# build SVM, KNN models and compare with NMF and best Random Forest model\n",
    "models = {\"SVM\": SVC(), \"KNN\": KNeighborsClassifier(n_neighbors=5),\n",
    "          \"Random Forest\": RandomForestClassifier(max_depth=20, min_samples_leaf=5, n_estimators=200,\n",
    "                       n_jobs=-1, random_state=42)}\n",
    "dic = {\"model\": \"\", \"acc\":0}\n",
    "df = pd.DataFrame([dic])\n",
    "for model_name, model in models.items():\n",
    "    acc = cross_val_score(model, X_df, train_df.Category, cv = 5)\n",
    "    df.loc[len(df.index)] = [model_name, round(np.mean(acc)*100,3)]\n",
    "df.loc[len(df.index)] = ['NMF', 96.429] \n",
    "df = df.sort_values(by='acc', ascending = False)\n",
    "display(df)         \n"
   ]
  },
  {
   "cell_type": "markdown",
   "id": "ff754c7b",
   "metadata": {},
   "source": [
    "#### Conclusion"
   ]
  },
  {
   "cell_type": "markdown",
   "id": "ea906f8b",
   "metadata": {},
   "source": [
    "From the result above, we can see that unsupervised learning gives a better model with higher accuracy (96.429%) compare with supervised learning Random Forest (94.947%) and KNN, however it has lower accuracy compare with SVM model (97.372%)"
   ]
  },
  {
   "cell_type": "markdown",
   "id": "d54162e1",
   "metadata": {},
   "source": [
    "###  Effect of the data size on supervised Random Forest model and unsupervised NMF model "
   ]
  },
  {
   "cell_type": "markdown",
   "id": "3c033c89",
   "metadata": {},
   "source": [
    "I'm using Learning Curve to determine cross-validated training and test scores for different training set sizes.\n",
    "\n",
    "A cross-validation generator splits the whole dataset k times in training and test data. Subsets of the training set with varying sizes will be used to train the estimator and a score for each training subset size and the test set will be computed. Afterwards, the scores will be averaged over all k runs for each training subset size."
   ]
  },
  {
   "cell_type": "code",
   "execution_count": 53,
   "id": "ee2e2bb5",
   "metadata": {},
   "outputs": [],
   "source": [
    "from sklearn.model_selection import learning_curve"
   ]
  },
  {
   "cell_type": "code",
   "execution_count": 54,
   "id": "3839b311",
   "metadata": {},
   "outputs": [
    {
     "name": "stdout",
     "output_type": "stream",
     "text": [
      "Learning curve for Random Forest model\n",
      "\n",
      "[learning_curve] Training set sizes: [ 118  385  652  919 1187]\n"
     ]
    },
    {
     "name": "stderr",
     "output_type": "stream",
     "text": [
      "[Parallel(n_jobs=1)]: Using backend SequentialBackend with 1 concurrent workers.\n"
     ]
    },
    {
     "name": "stdout",
     "output_type": "stream",
     "text": [
      "[CV] END ..................., score=(train=0.636, test=0.387) total time=   0.2s\n"
     ]
    },
    {
     "name": "stderr",
     "output_type": "stream",
     "text": [
      "[Parallel(n_jobs=1)]: Done   1 out of   1 | elapsed:    0.2s remaining:    0.0s\n"
     ]
    },
    {
     "name": "stdout",
     "output_type": "stream",
     "text": [
      "[CV] END ..................., score=(train=0.974, test=0.906) total time=   0.3s\n"
     ]
    },
    {
     "name": "stderr",
     "output_type": "stream",
     "text": [
      "[Parallel(n_jobs=1)]: Done   2 out of   2 | elapsed:    0.6s remaining:    0.0s\n"
     ]
    },
    {
     "name": "stdout",
     "output_type": "stream",
     "text": [
      "[CV] END ..................., score=(train=0.974, test=0.939) total time=   0.4s\n",
      "[CV] END ..................., score=(train=0.971, test=0.943) total time=   0.5s\n",
      "[CV] END ..................., score=(train=0.974, test=0.953) total time=   0.7s\n",
      "[CV] END ..................., score=(train=0.788, test=0.593) total time=   0.2s\n",
      "[CV] END ..................., score=(train=0.979, test=0.889) total time=   0.3s\n",
      "[CV] END ..................., score=(train=0.985, test=0.919) total time=   0.4s\n",
      "[CV] END ..................., score=(train=0.985, test=0.912) total time=   0.5s\n",
      "[CV] END ..................., score=(train=0.983, test=0.926) total time=   0.7s\n",
      "[CV] END ..................., score=(train=0.788, test=0.623) total time=   0.2s\n",
      "[CV] END ..................., score=(train=0.977, test=0.919) total time=   0.3s\n",
      "[CV] END ..................., score=(train=0.971, test=0.960) total time=   0.4s\n",
      "[CV] END ..................., score=(train=0.974, test=0.960) total time=   0.6s\n",
      "[CV] END ..................., score=(train=0.972, test=0.953) total time=   0.6s\n",
      "[CV] END ..................., score=(train=0.788, test=0.616) total time=   0.2s\n",
      "[CV] END ..................., score=(train=0.977, test=0.949) total time=   0.3s\n",
      "[CV] END ..................., score=(train=0.974, test=0.966) total time=   0.4s\n",
      "[CV] END ..................., score=(train=0.970, test=0.960) total time=   0.5s\n",
      "[CV] END ..................., score=(train=0.977, test=0.956) total time=   0.7s\n",
      "[CV] END ..................., score=(train=0.788, test=0.625) total time=   0.2s\n",
      "[CV] END ..................., score=(train=0.977, test=0.949) total time=   0.3s\n",
      "[CV] END ..................., score=(train=0.974, test=0.963) total time=   0.4s\n",
      "[CV] END ..................., score=(train=0.974, test=0.953) total time=   0.6s\n",
      "[CV] END ..................., score=(train=0.976, test=0.959) total time=   0.7s\n"
     ]
    },
    {
     "name": "stderr",
     "output_type": "stream",
     "text": [
      "[Parallel(n_jobs=1)]: Done  25 out of  25 | elapsed:   11.8s finished\n"
     ]
    }
   ],
   "source": [
    "# learning_curve for Random Forest\n",
    "Xtrain_full = vectorizer.fit_transform(train_df.Text)\n",
    "ytrain_full = train_df.Category\n",
    "print('Learning curve for Random Forest model\\n')\n",
    "rf_model = RandomForestClassifier(max_depth=20, min_samples_leaf=5, n_estimators=200, n_jobs=-1, random_state=42)\n",
    "train_sizes, train_scores, test_scores = learning_curve(rf_model, Xtrain_full, ytrain_full, verbose=3)\n",
    "    "
   ]
  },
  {
   "cell_type": "code",
   "execution_count": 55,
   "id": "bcd887d5",
   "metadata": {},
   "outputs": [
    {
     "name": "stderr",
     "output_type": "stream",
     "text": [
      "Learning curve for NMF model\n",
      "Learning curve for NMF model | 0/5 [00:00<?, ?it/s]\n",
      "Learning curve for NMF model00:16<01:05, 16.38s/it]\n",
      "Learning curve for NMF model00:33<00:49, 16.66s/it]\n",
      "Learning curve for NMF model00:50<00:33, 16.72s/it]\n",
      "Learning curve for NMF model01:07<00:16, 16.85s/it]\n",
      "Learning curve for NMF model01:24<00:00, 16.95s/it]\n",
      ": 100%|██████████████| 5/5 [01:24<00:00, 16.84s/it]\n"
     ]
    }
   ],
   "source": [
    "# Manually compute learning curve for NMF model\n",
    "from tqdm import tqdm\n",
    "train_scores_nmf = np.zeros((5,len(train_sizes)))\n",
    "test_scores_nmf = np.zeros((5,len(train_sizes)))\n",
    "\n",
    "for  i,s in tqdm(enumerate(train_sizes),desc=\"Learning curve for NMF model\\n\",total=len(train_sizes)): \n",
    "    for j in range(5):\n",
    "        try:\n",
    "            train_df_sub, test_df_sub = train_test_split(train_df, train_size=s, random_state = 42)\n",
    "        except ValueError:\n",
    "            train_df_sub = train_df\n",
    "            \n",
    "        best_model = NMF(n_components=5, init=\"nndsvda\", solver = \"mu\", beta_loss=\"kullback-leibler\", random_state = 42)\n",
    "        X_train = vectorizer.fit_transform(train_df_sub.Text)\n",
    "        yhat_train_sub = predict(best_model.fit_transform(X_train))\n",
    "        label_order, train_acc = label_permute_compare(train_df_sub, yhat_train_sub)\n",
    "\n",
    "        X_test = vectorizer.fit_transform(test_df_sub.Text)\n",
    "        yhat_test_sub = predict(best_model.fit_transform(X_test))\n",
    "        label_order, test_acc = label_permute_compare(test_df_sub, yhat_test_sub)\n",
    "        \n",
    "        train_scores_nmf[i,j] = train_acc\n",
    "        test_scores_nmf[i,j] = test_acc"
   ]
  },
  {
   "cell_type": "code",
   "execution_count": 56,
   "id": "8d885e6a",
   "metadata": {},
   "outputs": [],
   "source": [
    "def plot_learning_curve(train_sizes, train_scores, test_scores, fig_title):  \n",
    "    train_mean = np.mean(train_scores, axis=1)\n",
    "    train_std = np.std(train_scores, axis=1)\n",
    "    test_mean = np.mean(test_scores, axis=1)\n",
    "    test_std = np.std(test_scores, axis=1)\n",
    "\n",
    "    plt.plot(train_sizes, train_mean, '--', color=\"blue\",  label=\"Training score\")\n",
    "    plt.plot(train_sizes, test_mean, color=\"red\", label=\"Cross-validation score\")\n",
    "\n",
    "    plt.fill_between(train_sizes, train_mean - train_std, train_mean + train_std, color=\"#DDDDDD\")\n",
    "    plt.fill_between(train_sizes, test_mean - test_std, test_mean + test_std, color=\"#DDDDDD\")\n",
    "\n",
    "    plt.title(fig_title)\n",
    "    plt.xlabel(\"Training Set Size\"), plt.ylabel(\"Accuracy Score\"), plt.legend(loc=\"best\")\n",
    "    plt.tight_layout()\n",
    "    plt.show()"
   ]
  },
  {
   "cell_type": "code",
   "execution_count": 57,
   "id": "6348d611",
   "metadata": {},
   "outputs": [
    {
     "data": {
      "image/png": "[encoded data removed]",
      "text/plain": [
       "<Figure size 432x288 with 1 Axes>"
      ]
     },
     "metadata": {
      "needs_background": "light"
     },
     "output_type": "display_data"
    },
    {
     "data": {
      "image/png": "[encoded data removed]",
      "text/plain": [
       "<Figure size 432x288 with 1 Axes>"
      ]
     },
     "metadata": {
      "needs_background": "light"
     },
     "output_type": "display_data"
    }
   ],
   "source": [
    "# Plot learning curves\n",
    "plot_learning_curve(train_sizes, train_scores, test_scores,'Learning curve for Random Forest model')\n",
    "plot_learning_curve(train_sizes, train_scores_nmf, test_scores_nmf,'Learning curve for NMF model')"
   ]
  },
  {
   "cell_type": "markdown",
   "id": "6471724b",
   "metadata": {},
   "source": [
    "#### Conclusion"
   ]
  },
  {
   "cell_type": "markdown",
   "id": "12e05d2f",
   "metadata": {},
   "source": [
    "Looking at two learning curve plots above, we observe that:  \n",
    "\n",
    "+ The Random forest model: the larger training set size, the higher accuracy score, especially, when training size is over 400, the accuracy score is improved close to below 100% and stable. So, I think in this case, the more data we have, the higher accuracy score we get.   \n",
    "\n",
    "+ The NMF model: is very different from Random Forest model, in overall, when training set size increases, accuracy score increases, especially, when training set size is around 600, the accuracy score is improved a lot, it is over around 92%. However, when using less than 600 articles for training, the accuracy score is unstable, it is so slow when training size is less than 400 and then increases close to 90% when training size is around 600. So, increasing the size of the dataset may help increase the accuracy of this NMF model, but the maximum accuracy might not reach 100%.\n",
    " "
   ]
  },
  {
   "cell_type": "code",
   "execution_count": null,
   "id": "e86cb3bb",
   "metadata": {},
   "outputs": [],
   "source": []
  }
 ],
 "metadata": {
  "kernelspec": {
   "display_name": "Python 3 (ipykernel)",
   "language": "python",
   "name": "python3"
  },
  "language_info": {
   "codemirror_mode": {
    "name": "ipython",
    "version": 3
   },
   "file_extension": ".py",
   "mimetype": "text/x-python",
   "name": "python",
   "nbconvert_exporter": "python",
   "pygments_lexer": "ipython3",
   "version": "3.9.7"
  }
 },
 "nbformat": 4,
 "nbformat_minor": 5
}
